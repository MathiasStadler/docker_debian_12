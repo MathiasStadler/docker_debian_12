{
 "cells": [
  {
   "cell_type": "markdown",
   "metadata": {},
   "source": [
    "start container"
   ]
  },
  {
   "cell_type": "code",
   "execution_count": null,
   "metadata": {
    "vscode": {
     "languageId": "shellscript"
    }
   },
   "outputs": [],
   "source": [
    "docker run -it \\ \n",
    "-v /tmp/.X11-unix:/tmp/.X11-unix \\\n",
    "-v /sys/fs/cgroup:/sys/fs/cgroup:ro \\ \n",
    "--cap-add SYS_ADMIN \\\n",
    "--security-opt apparmor=unconfined \\ \n",
    "--tmpfs /run \\\n",
    "debian_12 bash"
   ]
  },
  {
   "cell_type": "code",
   "execution_count": null,
   "metadata": {
    "vscode": {
     "languageId": "shellscript"
    }
   },
   "outputs": [],
   "source": [
    "docker run -it -v /tmp/.X11-unix:/tmp/.X11-unix -v /sys/fs/cgroup:/sys/fs/cgroup:ro --cap-add SYS_ADMIN --security-opt apparmor=unconfined --tmpfs /run   debian_12 bash"
   ]
  },
  {
   "cell_type": "markdown",
   "metadata": {},
   "source": [
    "vncviewer"
   ]
  },
  {
   "cell_type": "code",
   "execution_count": null,
   "metadata": {
    "vscode": {
     "languageId": "shellscript"
    }
   },
   "outputs": [],
   "source": [
    "export DISPLAY=:0\n",
    "xhost +\n",
    "vncviewer $(docker inspect -f \\\n",
    "'{{range .NetworkSettings.Networks}}{{.IPAddress}}{{end}}' $(docker ps --format \"{{.ID}}\" | cut -d \" \" -f1))"
   ]
  },
  {
   "cell_type": "code",
   "execution_count": null,
   "metadata": {
    "vscode": {
     "languageId": "shellscript"
    }
   },
   "outputs": [],
   "source": [
    "docker run -it --rm \\\n",
    "--net host \\\n",
    "--cpuset-cpus 0 \\\n",
    "--memory 512mb \\\n",
    "-v /tmp/.X11-unix:/tmp/.X11-unix \\\n",
    "-e DISPLAY=unix$DISPLAY \\\n",
    "-v $HOME/Downloads:/home/chrome/Downloads \\\n",
    "-v $HOME/.config/google-chrome/:/data \\\n",
    "--security-opt seccomp=$HOME/chrome.json \\\n",
    "--device /dev/snd \\\n",
    "--device /dev/dri \\\n",
    "-v /dev/shm:/dev/shm \\\n",
    "--name chrome \\\n",
    "debian_12_google_chrome"
   ]
  },
  {
   "cell_type": "markdown",
   "metadata": {},
   "source": [
    "# download docker: opening seccomp profile chrome.json"
   ]
  },
  {
   "cell_type": "code",
   "execution_count": null,
   "metadata": {
    "vscode": {
     "languageId": "shellscript"
    }
   },
   "outputs": [],
   "source": [
    "wget https://raw.githubusercontent.com/jfrazelle/dotfiles/master/etc/docker/seccomp/chrome.json -O chrome.json\n"
   ]
  },
  {
   "cell_type": "markdown",
   "metadata": {},
   "source": [
    "# stop and remove all container"
   ]
  },
  {
   "cell_type": "code",
   "execution_count": null,
   "metadata": {
    "vscode": {
     "languageId": "shellscript"
    }
   },
   "outputs": [],
   "source": [
    "docker stop $(docker ps -a -q)\n",
    "docker remove $(docker ps -a -q)\n",
    "docker ps -a"
   ]
  }
 ],
 "metadata": {
  "kernelspec": {
   "display_name": "Bash",
   "language": "bash",
   "name": "bash"
  },
  "language_info": {
   "codemirror_mode": "shell",
   "file_extension": ".sh",
   "mimetype": "text/x-sh",
   "name": "bash"
  }
 },
 "nbformat": 4,
 "nbformat_minor": 2
}
