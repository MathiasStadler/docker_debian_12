{
 "cells": [
  {
   "cell_type": "markdown",
   "metadata": {},
   "source": [
    "start container"
   ]
  },
  {
   "cell_type": "code",
   "execution_count": null,
   "metadata": {
    "vscode": {
     "languageId": "shellscript"
    }
   },
   "outputs": [],
   "source": [
    "docker run -it \\ \n",
    "-v /tmp/.X11-unix:/tmp/.X11-unix \\\n",
    "-v /sys/fs/cgroup:/sys/fs/cgroup:ro \\ \n",
    "--cap-add SYS_ADMIN \\\n",
    "--security-opt apparmor=unconfined \\ \n",
    "--tmpfs /run \\\n",
    "debian_12 bash"
   ]
  },
  {
   "cell_type": "code",
   "execution_count": null,
   "metadata": {
    "vscode": {
     "languageId": "shellscript"
    }
   },
   "outputs": [],
   "source": [
    "docker run -it -v /tmp/.X11-unix:/tmp/.X11-unix -v /sys/fs/cgroup:/sys/fs/cgroup:ro --cap-add SYS_ADMIN --security-opt apparmor=unconfined --tmpfs /run   debian_12 bash"
   ]
  },
  {
   "cell_type": "markdown",
   "metadata": {},
   "source": [
    "vncviewer"
   ]
  },
  {
   "cell_type": "code",
   "execution_count": null,
   "metadata": {
    "vscode": {
     "languageId": "shellscript"
    }
   },
   "outputs": [],
   "source": [
    "export DISPLAY=:0\n",
    "xhost +\n",
    "vncviewer $(docker inspect -f \\\n",
    "'{{range .NetworkSettings.Networks}}{{.IPAddress}}{{end}}' $(docker ps --format \"{{.ID}}\" | cut -d \" \" -f1))"
   ]
  },
  {
   "cell_type": "code",
   "execution_count": null,
   "metadata": {
    "vscode": {
     "languageId": "shellscript"
    }
   },
   "outputs": [],
   "source": [
    "docker run -it --rm \\\n",
    "--net host \\\n",
    "--cpuset-cpus 0 \\\n",
    "--memory 512mb \\\n",
    "-v /tmp/.X11-unix:/tmp/.X11-unix \\\n",
    "-e DISPLAY=unix$DISPLAY \\\n",
    "-v $HOME/Downloads:/home/chrome/Downloads \\\n",
    "-v $HOME/.config/google-chrome/:/data \\\n",
    "--security-opt seccomp=$HOME/chrome.json \\\n",
    "--device /dev/snd \\\n",
    "--device /dev/dri \\\n",
    "-v /dev/shm:/dev/shm \\\n",
    "--name chrome \\\n",
    "debian_12_google_chrome"
   ]
  },
  {
   "cell_type": "markdown",
   "metadata": {},
   "source": [
    "# download docker: opening seccomp profile chrome.json"
   ]
  },
  {
   "cell_type": "code",
   "execution_count": null,
   "metadata": {
    "vscode": {
     "languageId": "shellscript"
    }
   },
   "outputs": [],
   "source": [
    "wget https://raw.githubusercontent.com/jfrazelle/dotfiles/master/etc/docker/seccomp/chrome.json -O chrome.json\n"
   ]
  },
  {
   "cell_type": "markdown",
   "metadata": {},
   "source": [
    "# stop and remove all container"
   ]
  },
  {
   "cell_type": "code",
   "execution_count": null,
   "metadata": {
    "vscode": {
     "languageId": "shellscript"
    }
   },
   "outputs": [],
   "source": [
    "docker stop $(docker ps -a -q)\n",
    "docker remove $(docker ps -a -q)\n",
    "docker ps -a"
   ]
  },
  {
   "cell_type": "markdown",
   "metadata": {},
   "source": [
    "/w sound"
   ]
  },
  {
   "cell_type": "code",
   "execution_count": null,
   "metadata": {
    "vscode": {
     "languageId": "shellscript"
    }
   },
   "outputs": [],
   "source": [
    "sudo docker run -it \\\n",
    "-v /tmp/.X11-unix:/tmp/.X11-unix \\\n",
    "-v /sys/fs/cgroup:/sys/fs/cgroup:ro \\\n",
    "--cap-add SYS_ADMIN \\\n",
    "--security-opt apparmor=unconfined \\\n",
    "--tmpfs /run --device /dev/snd \\\n",
    "--device /dev/dri -v /dev/shm:/dev/shm \\\n",
    "debian_chrome_xvfb_rust_8   bash"
   ]
  },
  {
   "cell_type": "code",
   "execution_count": null,
   "metadata": {
    "vscode": {
     "languageId": "shellscript"
    }
   },
   "outputs": [],
   "source": [
    "sudo docker run -it \\\n",
    "    --device /dev/snd \\\n",
    "    -e PULSE_SERVER=unix:${XDG_RUNTIME_DIR}/pulse/native \\\n",
    "    -v ${XDG_RUNTIME_DIR}/pulse/native:${XDG_RUNTIME_DIR}/pulse/native \\\n",
    "    -v ~/.config/pulse/cookie:/root/.config/pulse/cookie \\\n",
    "    --group-add $(getent group audio | cut -d: -f3) \\\n",
    "    ubuntu:23.10 /bin/bash"
   ]
  },
  {
   "cell_type": "code",
   "execution_count": null,
   "metadata": {
    "vscode": {
     "languageId": "shellscript"
    }
   },
   "outputs": [],
   "source": [
    "sudo docker run -it \\\n",
    "-e PULSE_SERVER=unix:${XDG_RUNTIME_DIR}/pulse/native \\\n",
    "-v ${XDG_RUNTIME_DIR}/pulse/native:${XDG_RUNTIME_DIR}/pulse/native \\\n",
    "-v ~/.config/pulse/cookie:/root/.config/pulse/cookie \\\n",
    "--group-add $(getent group audio | cut -d: -f3) \\\n",
    "-v /tmp/.X11-unix:/tmp/.X11-unix \\\n",
    "-v /sys/fs/cgroup:/sys/fs/cgroup:ro \\\n",
    "--cap-add SYS_ADMIN \\\n",
    "--security-opt apparmor=unconfined \\\n",
    "--tmpfs /run \\ \n",
    "--device /dev/snd \\\n",
    "--device /dev/dri \\\n",
    "-v /dev/shm:/dev/shm \\\n",
    "debian_chrome_xvfb_rust_9   bash"
   ]
  },
  {
   "cell_type": "code",
   "execution_count": null,
   "metadata": {
    "vscode": {
     "languageId": "shellscript"
    }
   },
   "outputs": [],
   "source": [
    "sudo docker run -it \\\n",
    "-e PULSE_SERVER=unix:${XDG_RUNTIME_DIR}/pulse/native \\\n",
    "-v ${XDG_RUNTIME_DIR}/pulse/native:${XDG_RUNTIME_DIR}/pulse/native \\\n",
    "-v ~/.config/pulse/cookie:/root/.config/pulse/cookie \\\n",
    "--group-add $(getent group audio | cut -d: -f3) \\\n",
    "-v /tmp/.X11-unix:/tmp/.X11-unix \\\n",
    "-v /sys/fs/cgroup:/sys/fs/cgroup:ro \\\n",
    "--cap-add SYS_ADMIN \\\n",
    "--security-opt apparmor=unconfined \\\n",
    "--tmpfs /run \\ \n",
    "--device /dev/snd /dev/dri \\\n",
    "-v /dev/shm:/dev/shm \\\n",
    "debian_chrome_xvfb_rust_9   bash"
   ]
  },
  {
   "cell_type": "markdown",
   "metadata": {},
   "source": [
    "# one line cmd docker run"
   ]
  },
  {
   "cell_type": "code",
   "execution_count": null,
   "metadata": {
    "vscode": {
     "languageId": "shellscript"
    }
   },
   "outputs": [],
   "source": [
    "docker run -it -e PULSE_SERVER=unix:${XDG_RUNTIME_DIR}/pulse/native -v ${XDG_RUNTIME_DIR}/pulse/native:${XDG_RUNTIME_DIR}/pulse/native -v ~/.config/pulse/cookie:/root/.config/pulse/cookie --group-add $(getent group audio | cut -d: -f3) -v /tmp/.X11-unix:/tmp/.X11-unix -v /sys/fs/cgroup:/sys/fs/cgroup:ro --cap-add SYS_ADMIN --security-opt apparmor=unconfined --tmpfs /run --device /dev/snd --device /dev/dri -v /dev/shm:/dev/shm debian_chrome_xvfb_rust_9   bash"
   ]
  },
  {
   "cell_type": "code",
   "execution_count": null,
   "metadata": {
    "vscode": {
     "languageId": "shellscript"
    }
   },
   "outputs": [],
   "source": [
    "docker run -it -e PULSE_SERVER=unix:${XDG_RUNTIME_DIR}/pulse/native -v ${XDG_RUNTIME_DIR}/pulse/native:${XDG_RUNTIME_DIR}/pulse/native -v ~/.config/pulse/cookie:/root/.config/pulse/cookie --group-add $(getent group audio | cut -d: -f3) -v /tmp/.X11-unix:/tmp/.X11-unix -v /sys/fs/cgroup:/sys/fs/cgroup:ro --cap-add SYS_ADMIN --security-opt apparmor=unconfined --tmpfs /run --device /dev/snd --device /dev/dri -v /dev/shm:/dev/shm debian_chrome_xvfb_rust_9   bash"
   ]
  },
  {
   "cell_type": "code",
   "execution_count": null,
   "metadata": {
    "vscode": {
     "languageId": "shellscript"
    }
   },
   "outputs": [],
   "source": [
    "# CAP_SYS_MODULE\n",
    "sudo docker run -it -e PULSE_SERVER=unix:${XDG_RUNTIME_DIR}/pulse/native -v ${XDG_RUNTIME_DIR}/pulse/native:${XDG_RUNTIME_DIR}/pulse/native -v ~/.config/pulse/cookie:/root/.config/pulse/cookie --group-add $(getent group audio | cut -d: -f3) -v /tmp/.X11-unix:/tmp/.X11-unix -v /sys/fs/cgroup:/sys/fs/cgroup:ro --cap-add SYS_ADMIN --cap-add CAP_SYS_MODULE --security-opt apparmor=unconfined --tmpfs /run --device /dev/snd --device /dev/dri -v /dev/shm:/dev/shm -v /home/trapapa/docker_debian_12/workspace:/home/user/workspace:rw debian_chrome_xvfb_rust_9   bash"
   ]
  }
 ],
 "metadata": {
  "kernelspec": {
   "display_name": "Bash",
   "language": "bash",
   "name": "bash"
  },
  "language_info": {
   "codemirror_mode": "shell",
   "file_extension": ".sh",
   "mimetype": "text/x-sh",
   "name": "bash"
  }
 },
 "nbformat": 4,
 "nbformat_minor": 2
}
