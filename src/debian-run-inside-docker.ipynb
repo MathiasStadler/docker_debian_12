{
 "cells": [
  {
   "cell_type": "markdown",
   "metadata": {},
   "source": [
    "start container"
   ]
  },
  {
   "cell_type": "code",
   "execution_count": null,
   "metadata": {
    "vscode": {
     "languageId": "shellscript"
    }
   },
   "outputs": [],
   "source": [
    "docker run -it \\ \n",
    "-v /tmp/.X11-unix:/tmp/.X11-unix \\\n",
    "-v /sys/fs/cgroup:/sys/fs/cgroup:ro \\ \n",
    "--cap-add SYS_ADMIN \\\n",
    "--security-opt apparmor=unconfined \\ \n",
    "--tmpfs /run \\\n",
    "debian_12 bash"
   ]
  },
  {
   "cell_type": "code",
   "execution_count": null,
   "metadata": {
    "vscode": {
     "languageId": "shellscript"
    }
   },
   "outputs": [],
   "source": [
    "docker run -it -v /tmp/.X11-unix:/tmp/.X11-unix -v /sys/fs/cgroup:/sys/fs/cgroup:ro --cap-add SYS_ADMIN --security-opt apparmor=unconfined --tmpfs /run   debian_12 bash"
   ]
  },
  {
   "cell_type": "markdown",
   "metadata": {},
   "source": [
    "vncviewer"
   ]
  },
  {
   "cell_type": "code",
   "execution_count": null,
   "metadata": {
    "vscode": {
     "languageId": "shellscript"
    }
   },
   "outputs": [],
   "source": [
    "export DISPLAY=:0\n",
    "xhost +\n",
    "vncviewer $(docker inspect -f \\\n",
    "'{{range .NetworkSettings.Networks}}{{.IPAddress}}{{end}}' $(docker ps --format \"{{.ID}}\" | cut -d \" \" -f1))"
   ]
  },
  {
   "cell_type": "code",
   "execution_count": null,
   "metadata": {
    "vscode": {
     "languageId": "shellscript"
    }
   },
   "outputs": [],
   "source": [
    "docker run -it \\\n",
    "   --net host \\ \n",
    "   --cpuset-cpus 0 \\ \n",
    "   --memory 512mb \\ \n",
    "   -v /tmp/.X11-unix:/tmp/.X11-unix \\ \n",
    "   -e DISPLAY=unix$DISPLAY \\\n",
    "   -v $HOME/Downloads:/home/chrome/Downloads \\\n",
    "   -v $HOME/.config/google-chrome/:/data \\ \n",
    "   --security-opt seccomp=$HOME/chrome.json \\\n",
    "   --device /dev/snd \\ \n",
    "   --device /dev/dri \\\n",
    "   -v /dev/shm:/dev/shm \\\n",
    "   --name chrome \\\n",
    "   debian_12_google_chrome"
   ]
  },
  {
   "cell_type": "code",
   "execution_count": null,
   "metadata": {
    "vscode": {
     "languageId": "shellscript"
    }
   },
   "outputs": [],
   "source": [
    "docker run -it \\\n",
    "--net host \\\n",
    "--cpuset-cpus 0 \\\n",
    "--memory 512mb \\\n",
    "-v /tmp/.X11-unix:/tmp/.X11-unix \\\n",
    "-e DISPLAY=unix$DISPLAY \\\n",
    "-v $HOME/Downloads:/home/chrome/Downloads \\\n",
    "-v $HOME/.config/google-chrome/:/data \\\n",
    "--security-opt seccomp=$HOME/chrome.json \\\n",
    "--device /dev/snd \\\n",
    "--device /dev/dri \\\n",
    "-v /dev/shm:/dev/shm \\\n",
    "--name chrome \\\n",
    "debian_12_google_chrome"
   ]
  },
  {
   "cell_type": "markdown",
   "metadata": {},
   "source": [
    "# download docker: opening seccomp profile chrome.json"
   ]
  },
  {
   "cell_type": "code",
   "execution_count": 2,
   "metadata": {
    "vscode": {
     "languageId": "shellscript"
    }
   },
   "outputs": [
    {
     "name": "stdout",
     "output_type": "stream",
     "text": [
      "--2024-01-13 15:08:52--  https://raw.githubusercontent.com/jfrazelle/dotfiles/master/etc/docker/seccomp/chrome.json\n",
      "Auflösen des Hostnamens raw.githubusercontent.com (raw.githubusercontent.com) … 2606:50c0:8003::154, 2606:50c0:8001::154, 2606:50c0:8002::154, ...\n",
      "Verbindungsaufbau zu raw.githubusercontent.com (raw.githubusercontent.com)|2606:50c0:8003::154|:443 … verbunden.\n",
      "HTTP-Anforderung gesendet, auf Antwort wird gewartet … 200 OK\n",
      "Länge: 36373 (36K) [text/plain]\n",
      "Wird in ‘chrome.json’ gespeichert.\n",
      "\n",
      "chrome.json         100%[===================>]  35,52K  --.-KB/s    in 0,004s  \n",
      "\n",
      "2024-01-13 15:08:52 (8,61 MB/s) - ‘chrome.json’ gespeichert [36373/36373]\n",
      "\n"
     ]
    }
   ],
   "source": [
    "wget https://raw.githubusercontent.com/jfrazelle/dotfiles/master/etc/docker/seccomp/chrome.json -O chrome.json\n"
   ]
  }
 ],
 "metadata": {
  "kernelspec": {
   "display_name": "Bash",
   "language": "bash",
   "name": "bash"
  },
  "language_info": {
   "codemirror_mode": "shell",
   "file_extension": ".sh",
   "mimetype": "text/x-sh",
   "name": "bash"
  }
 },
 "nbformat": 4,
 "nbformat_minor": 2
}
