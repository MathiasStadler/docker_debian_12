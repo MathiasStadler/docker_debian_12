{
 "cells": [
  {
   "cell_type": "markdown",
   "metadata": {},
   "source": [
    "start container"
   ]
  },
  {
   "cell_type": "code",
   "execution_count": null,
   "metadata": {
    "vscode": {
     "languageId": "shellscript"
    }
   },
   "outputs": [],
   "source": [
    "docker run -it \\ \n",
    "-v /tmp/.X11-unix:/tmp/.X11-unix \\\n",
    "-v /sys/fs/cgroup:/sys/fs/cgroup:ro \\ \n",
    "--cap-add SYS_ADMIN \\\n",
    "--security-opt apparmor=unconfined \\ \n",
    "--tmpfs /run \\\n",
    "debian_12 bash"
   ]
  },
  {
   "cell_type": "code",
   "execution_count": null,
   "metadata": {
    "vscode": {
     "languageId": "shellscript"
    }
   },
   "outputs": [],
   "source": [
    "docker run -it -v /tmp/.X11-unix:/tmp/.X11-unix -v /sys/fs/cgroup:/sys/fs/cgroup:ro --cap-add SYS_ADMIN --security-opt apparmor=unconfined --tmpfs /run   debian_12 bash"
   ]
  }
 ],
 "metadata": {
  "kernelspec": {
   "display_name": "Bash",
   "language": "bash",
   "name": "bash"
  },
  "language_info": {
   "name": "bash"
  }
 },
 "nbformat": 4,
 "nbformat_minor": 2
}
